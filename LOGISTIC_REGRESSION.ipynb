{
  "nbformat": 4,
  "nbformat_minor": 0,
  "metadata": {
    "colab": {
      "name": "LOGISTIC REGRESSION.ipynb",
      "provenance": [],
      "authorship_tag": "ABX9TyPbE+QAdB3kMmitA06mv14e",
      "include_colab_link": true
    },
    "kernelspec": {
      "name": "python3",
      "display_name": "Python 3"
    }
  },
  "cells": [
    {
      "cell_type": "markdown",
      "metadata": {
        "id": "view-in-github",
        "colab_type": "text"
      },
      "source": [
        "<a href=\"https://colab.research.google.com/github/linhtn3103/machine-learning/blob/main/LOGISTIC_REGRESSION.ipynb\" target=\"_parent\"><img src=\"https://colab.research.google.com/assets/colab-badge.svg\" alt=\"Open In Colab\"/></a>"
      ]
    },
    {
      "cell_type": "code",
      "metadata": {
        "id": "M6aSkrjLZNOG"
      },
      "source": [
        "import pandas as pd\n",
        "import numpy as np\n",
        "import matplotlib.pyplot as plt\n",
        "\n",
        "dataset = pd.read_csv(\"/content/sample_data/Social_Network_Ads.csv\")\n",
        "dataset.head()\n",
        "X = dataset.iloc[:,[2,3]]\n",
        "y = dataset.iloc[:,4]"
      ],
      "execution_count": 5,
      "outputs": []
    },
    {
      "cell_type": "code",
      "metadata": {
        "id": "Vyzd9CT5cBcz"
      },
      "source": [
        "from sklearn.preprocessing import StandardScaler\n",
        "SC = StandardScaler()\n",
        "X = SC.fit_transform(X)"
      ],
      "execution_count": 6,
      "outputs": []
    },
    {
      "cell_type": "code",
      "metadata": {
        "id": "XrZZfgZVchL1"
      },
      "source": [
        "from sklearn.model_selection import train_test_split\n",
        "X_train, X_test, Y_train, Y_test = train_test_split(X, y, train_size = 0.8, random_state = 0)"
      ],
      "execution_count": 8,
      "outputs": []
    },
    {
      "cell_type": "code",
      "metadata": {
        "id": "ycs6amL6dXhP",
        "outputId": "5f1a6b8b-749e-46e5-cf66-095f300dc3fb",
        "colab": {
          "base_uri": "https://localhost:8080/",
          "height": 267
        }
      },
      "source": [
        "from matplotlib.colors import ListedColormap\n",
        "def VisualizingDataset(X_, Y_):\n",
        " X1 = X_[:, 0]\n",
        " X2 = X_[:, 1]\n",
        " for i, label in enumerate(np.unique(Y_)):\n",
        "  plt.scatter(X1[Y_ == label], X2[Y_ == label],\n",
        "              color = ListedColormap((\"red\", \"green\"))(i),\n",
        "              label = label)\n",
        "VisualizingDataset(X, y)"
      ],
      "execution_count": 11,
      "outputs": [
        {
          "output_type": "display_data",
          "data": {
            "image/png": "[encoded data removed]",
            "text/plain": [
              "<Figure size 432x288 with 1 Axes>"
            ]
          },
          "metadata": {
            "tags": [],
            "needs_background": "light"
          }
        }
      ]
    }
  ]
}